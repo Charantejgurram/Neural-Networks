{
 "cells": [
  {
   "cell_type": "markdown",
   "id": "ff9d10bf",
   "metadata": {},
   "source": [
    "# Topic :: Neural Networks"
   ]
  },
  {
   "cell_type": "markdown",
   "id": "9b752ccf",
   "metadata": {},
   "source": [
    "# Question 1 :\n",
    "    The dataset contains 36733 instances of 11 sensor measures aggregated over one hour (by means of average or sum) from a gas     turbine. \n",
    "     The Dataset includes gas turbine parameters (such as Turbine Inlet Temperature and Compressor Discharge pressure) in addition to the ambient variables.\n",
    "\n",
    "\n",
    "\n",
    "    Problem statement: predicting turbine energy yield (TEY) using ambient variables as features."
   ]
  },
  {
   "cell_type": "code",
   "execution_count": 1,
   "id": "1028e569",
   "metadata": {
    "ExecuteTime": {
     "end_time": "2023-04-11T04:36:58.628273Z",
     "start_time": "2023-04-11T04:36:55.978724Z"
    }
   },
   "outputs": [],
   "source": [
    "#Importing Libraries\n",
    "\n",
    "import pandas as pd\n",
    "import numpy as np\n",
    "from matplotlib import pyplot as plt\n",
    "import seaborn as sns"
   ]
  },
  {
   "cell_type": "code",
   "execution_count": 2,
   "id": "85175f7e",
   "metadata": {
    "ExecuteTime": {
     "end_time": "2023-04-11T04:37:11.188099Z",
     "start_time": "2023-04-11T04:37:11.130337Z"
    },
    "scrolled": true
   },
   "outputs": [
    {
     "data": {
      "text/html": [
       "<div>\n",
       "<style scoped>\n",
       "    .dataframe tbody tr th:only-of-type {\n",
       "        vertical-align: middle;\n",
       "    }\n",
       "\n",
       "    .dataframe tbody tr th {\n",
       "        vertical-align: top;\n",
       "    }\n",
       "\n",
       "    .dataframe thead th {\n",
       "        text-align: right;\n",
       "    }\n",
       "</style>\n",
       "<table border=\"1\" class=\"dataframe\">\n",
       "  <thead>\n",
       "    <tr style=\"text-align: right;\">\n",
       "      <th></th>\n",
       "      <th>AT</th>\n",
       "      <th>AP</th>\n",
       "      <th>AH</th>\n",
       "      <th>AFDP</th>\n",
       "      <th>GTEP</th>\n",
       "      <th>TIT</th>\n",
       "      <th>TAT</th>\n",
       "      <th>TEY</th>\n",
       "      <th>CDP</th>\n",
       "      <th>CO</th>\n",
       "      <th>NOX</th>\n",
       "    </tr>\n",
       "  </thead>\n",
       "  <tbody>\n",
       "    <tr>\n",
       "      <th>0</th>\n",
       "      <td>6.8594</td>\n",
       "      <td>1007.9</td>\n",
       "      <td>96.799</td>\n",
       "      <td>3.5000</td>\n",
       "      <td>19.663</td>\n",
       "      <td>1059.2</td>\n",
       "      <td>550.00</td>\n",
       "      <td>114.70</td>\n",
       "      <td>10.605</td>\n",
       "      <td>3.1547</td>\n",
       "      <td>82.722</td>\n",
       "    </tr>\n",
       "    <tr>\n",
       "      <th>1</th>\n",
       "      <td>6.7850</td>\n",
       "      <td>1008.4</td>\n",
       "      <td>97.118</td>\n",
       "      <td>3.4998</td>\n",
       "      <td>19.728</td>\n",
       "      <td>1059.3</td>\n",
       "      <td>550.00</td>\n",
       "      <td>114.72</td>\n",
       "      <td>10.598</td>\n",
       "      <td>3.2363</td>\n",
       "      <td>82.776</td>\n",
       "    </tr>\n",
       "    <tr>\n",
       "      <th>2</th>\n",
       "      <td>6.8977</td>\n",
       "      <td>1008.8</td>\n",
       "      <td>95.939</td>\n",
       "      <td>3.4824</td>\n",
       "      <td>19.779</td>\n",
       "      <td>1059.4</td>\n",
       "      <td>549.87</td>\n",
       "      <td>114.71</td>\n",
       "      <td>10.601</td>\n",
       "      <td>3.2012</td>\n",
       "      <td>82.468</td>\n",
       "    </tr>\n",
       "    <tr>\n",
       "      <th>3</th>\n",
       "      <td>7.0569</td>\n",
       "      <td>1009.2</td>\n",
       "      <td>95.249</td>\n",
       "      <td>3.4805</td>\n",
       "      <td>19.792</td>\n",
       "      <td>1059.6</td>\n",
       "      <td>549.99</td>\n",
       "      <td>114.72</td>\n",
       "      <td>10.606</td>\n",
       "      <td>3.1923</td>\n",
       "      <td>82.670</td>\n",
       "    </tr>\n",
       "    <tr>\n",
       "      <th>4</th>\n",
       "      <td>7.3978</td>\n",
       "      <td>1009.7</td>\n",
       "      <td>95.150</td>\n",
       "      <td>3.4976</td>\n",
       "      <td>19.765</td>\n",
       "      <td>1059.7</td>\n",
       "      <td>549.98</td>\n",
       "      <td>114.72</td>\n",
       "      <td>10.612</td>\n",
       "      <td>3.2484</td>\n",
       "      <td>82.311</td>\n",
       "    </tr>\n",
       "    <tr>\n",
       "      <th>...</th>\n",
       "      <td>...</td>\n",
       "      <td>...</td>\n",
       "      <td>...</td>\n",
       "      <td>...</td>\n",
       "      <td>...</td>\n",
       "      <td>...</td>\n",
       "      <td>...</td>\n",
       "      <td>...</td>\n",
       "      <td>...</td>\n",
       "      <td>...</td>\n",
       "      <td>...</td>\n",
       "    </tr>\n",
       "    <tr>\n",
       "      <th>15034</th>\n",
       "      <td>9.0301</td>\n",
       "      <td>1005.6</td>\n",
       "      <td>98.460</td>\n",
       "      <td>3.5421</td>\n",
       "      <td>19.164</td>\n",
       "      <td>1049.7</td>\n",
       "      <td>546.21</td>\n",
       "      <td>111.61</td>\n",
       "      <td>10.400</td>\n",
       "      <td>4.5186</td>\n",
       "      <td>79.559</td>\n",
       "    </tr>\n",
       "    <tr>\n",
       "      <th>15035</th>\n",
       "      <td>7.8879</td>\n",
       "      <td>1005.9</td>\n",
       "      <td>99.093</td>\n",
       "      <td>3.5059</td>\n",
       "      <td>19.414</td>\n",
       "      <td>1046.3</td>\n",
       "      <td>543.22</td>\n",
       "      <td>111.78</td>\n",
       "      <td>10.433</td>\n",
       "      <td>4.8470</td>\n",
       "      <td>79.917</td>\n",
       "    </tr>\n",
       "    <tr>\n",
       "      <th>15036</th>\n",
       "      <td>7.2647</td>\n",
       "      <td>1006.3</td>\n",
       "      <td>99.496</td>\n",
       "      <td>3.4770</td>\n",
       "      <td>19.530</td>\n",
       "      <td>1037.7</td>\n",
       "      <td>537.32</td>\n",
       "      <td>110.19</td>\n",
       "      <td>10.483</td>\n",
       "      <td>7.9632</td>\n",
       "      <td>90.912</td>\n",
       "    </tr>\n",
       "    <tr>\n",
       "      <th>15037</th>\n",
       "      <td>7.0060</td>\n",
       "      <td>1006.8</td>\n",
       "      <td>99.008</td>\n",
       "      <td>3.4486</td>\n",
       "      <td>19.377</td>\n",
       "      <td>1043.2</td>\n",
       "      <td>541.24</td>\n",
       "      <td>110.74</td>\n",
       "      <td>10.533</td>\n",
       "      <td>6.2494</td>\n",
       "      <td>93.227</td>\n",
       "    </tr>\n",
       "    <tr>\n",
       "      <th>15038</th>\n",
       "      <td>6.9279</td>\n",
       "      <td>1007.2</td>\n",
       "      <td>97.533</td>\n",
       "      <td>3.4275</td>\n",
       "      <td>19.306</td>\n",
       "      <td>1049.9</td>\n",
       "      <td>545.85</td>\n",
       "      <td>111.58</td>\n",
       "      <td>10.583</td>\n",
       "      <td>4.9816</td>\n",
       "      <td>92.498</td>\n",
       "    </tr>\n",
       "  </tbody>\n",
       "</table>\n",
       "<p>15039 rows × 11 columns</p>\n",
       "</div>"
      ],
      "text/plain": [
       "           AT      AP      AH    AFDP    GTEP     TIT     TAT     TEY     CDP  \\\n",
       "0      6.8594  1007.9  96.799  3.5000  19.663  1059.2  550.00  114.70  10.605   \n",
       "1      6.7850  1008.4  97.118  3.4998  19.728  1059.3  550.00  114.72  10.598   \n",
       "2      6.8977  1008.8  95.939  3.4824  19.779  1059.4  549.87  114.71  10.601   \n",
       "3      7.0569  1009.2  95.249  3.4805  19.792  1059.6  549.99  114.72  10.606   \n",
       "4      7.3978  1009.7  95.150  3.4976  19.765  1059.7  549.98  114.72  10.612   \n",
       "...       ...     ...     ...     ...     ...     ...     ...     ...     ...   \n",
       "15034  9.0301  1005.6  98.460  3.5421  19.164  1049.7  546.21  111.61  10.400   \n",
       "15035  7.8879  1005.9  99.093  3.5059  19.414  1046.3  543.22  111.78  10.433   \n",
       "15036  7.2647  1006.3  99.496  3.4770  19.530  1037.7  537.32  110.19  10.483   \n",
       "15037  7.0060  1006.8  99.008  3.4486  19.377  1043.2  541.24  110.74  10.533   \n",
       "15038  6.9279  1007.2  97.533  3.4275  19.306  1049.9  545.85  111.58  10.583   \n",
       "\n",
       "           CO     NOX  \n",
       "0      3.1547  82.722  \n",
       "1      3.2363  82.776  \n",
       "2      3.2012  82.468  \n",
       "3      3.1923  82.670  \n",
       "4      3.2484  82.311  \n",
       "...       ...     ...  \n",
       "15034  4.5186  79.559  \n",
       "15035  4.8470  79.917  \n",
       "15036  7.9632  90.912  \n",
       "15037  6.2494  93.227  \n",
       "15038  4.9816  92.498  \n",
       "\n",
       "[15039 rows x 11 columns]"
      ]
     },
     "execution_count": 2,
     "metadata": {},
     "output_type": "execute_result"
    }
   ],
   "source": [
    "#Loading Dataset\n",
    "\n",
    "df = pd.read_csv('gas_turbines.csv')\n",
    "df"
   ]
  },
  {
   "cell_type": "markdown",
   "id": "8d261dba",
   "metadata": {},
   "source": [
    "# EDA & Visualization"
   ]
  },
  {
   "cell_type": "code",
   "execution_count": 3,
   "id": "da88512a",
   "metadata": {
    "ExecuteTime": {
     "end_time": "2023-04-11T04:37:47.065890Z",
     "start_time": "2023-04-11T04:37:47.046395Z"
    }
   },
   "outputs": [
    {
     "name": "stdout",
     "output_type": "stream",
     "text": [
      "<class 'pandas.core.frame.DataFrame'>\n",
      "RangeIndex: 15039 entries, 0 to 15038\n",
      "Data columns (total 11 columns):\n",
      " #   Column  Non-Null Count  Dtype  \n",
      "---  ------  --------------  -----  \n",
      " 0   AT      15039 non-null  float64\n",
      " 1   AP      15039 non-null  float64\n",
      " 2   AH      15039 non-null  float64\n",
      " 3   AFDP    15039 non-null  float64\n",
      " 4   GTEP    15039 non-null  float64\n",
      " 5   TIT     15039 non-null  float64\n",
      " 6   TAT     15039 non-null  float64\n",
      " 7   TEY     15039 non-null  float64\n",
      " 8   CDP     15039 non-null  float64\n",
      " 9   CO      15039 non-null  float64\n",
      " 10  NOX     15039 non-null  float64\n",
      "dtypes: float64(11)\n",
      "memory usage: 1.3 MB\n"
     ]
    }
   ],
   "source": [
    "df.info()"
   ]
  },
  {
   "cell_type": "code",
   "execution_count": 4,
   "id": "57d56f99",
   "metadata": {
    "ExecuteTime": {
     "end_time": "2023-04-11T04:37:50.383855Z",
     "start_time": "2023-04-11T04:37:50.363378Z"
    }
   },
   "outputs": [
    {
     "data": {
      "text/plain": [
       "AT      0\n",
       "AP      0\n",
       "AH      0\n",
       "AFDP    0\n",
       "GTEP    0\n",
       "TIT     0\n",
       "TAT     0\n",
       "TEY     0\n",
       "CDP     0\n",
       "CO      0\n",
       "NOX     0\n",
       "dtype: int64"
      ]
     },
     "execution_count": 4,
     "metadata": {},
     "output_type": "execute_result"
    }
   ],
   "source": [
    "df.isna().sum()"
   ]
  },
  {
   "cell_type": "code",
   "execution_count": 5,
   "id": "11336e9d",
   "metadata": {
    "ExecuteTime": {
     "end_time": "2023-04-11T04:37:52.486372Z",
     "start_time": "2023-04-11T04:37:52.430481Z"
    }
   },
   "outputs": [
    {
     "data": {
      "text/html": [
       "<div>\n",
       "<style scoped>\n",
       "    .dataframe tbody tr th:only-of-type {\n",
       "        vertical-align: middle;\n",
       "    }\n",
       "\n",
       "    .dataframe tbody tr th {\n",
       "        vertical-align: top;\n",
       "    }\n",
       "\n",
       "    .dataframe thead th {\n",
       "        text-align: right;\n",
       "    }\n",
       "</style>\n",
       "<table border=\"1\" class=\"dataframe\">\n",
       "  <thead>\n",
       "    <tr style=\"text-align: right;\">\n",
       "      <th></th>\n",
       "      <th>AT</th>\n",
       "      <th>AP</th>\n",
       "      <th>AH</th>\n",
       "      <th>AFDP</th>\n",
       "      <th>GTEP</th>\n",
       "      <th>TIT</th>\n",
       "      <th>TAT</th>\n",
       "      <th>TEY</th>\n",
       "      <th>CDP</th>\n",
       "      <th>CO</th>\n",
       "      <th>NOX</th>\n",
       "    </tr>\n",
       "  </thead>\n",
       "  <tbody>\n",
       "    <tr>\n",
       "      <th>count</th>\n",
       "      <td>15039.000000</td>\n",
       "      <td>15039.00000</td>\n",
       "      <td>15039.000000</td>\n",
       "      <td>15039.000000</td>\n",
       "      <td>15039.000000</td>\n",
       "      <td>15039.000000</td>\n",
       "      <td>15039.000000</td>\n",
       "      <td>15039.000000</td>\n",
       "      <td>15039.000000</td>\n",
       "      <td>15039.000000</td>\n",
       "      <td>15039.000000</td>\n",
       "    </tr>\n",
       "    <tr>\n",
       "      <th>mean</th>\n",
       "      <td>17.764381</td>\n",
       "      <td>1013.19924</td>\n",
       "      <td>79.124174</td>\n",
       "      <td>4.200294</td>\n",
       "      <td>25.419061</td>\n",
       "      <td>1083.798770</td>\n",
       "      <td>545.396183</td>\n",
       "      <td>134.188464</td>\n",
       "      <td>12.102353</td>\n",
       "      <td>1.972499</td>\n",
       "      <td>68.190934</td>\n",
       "    </tr>\n",
       "    <tr>\n",
       "      <th>std</th>\n",
       "      <td>7.574323</td>\n",
       "      <td>6.41076</td>\n",
       "      <td>13.793439</td>\n",
       "      <td>0.760197</td>\n",
       "      <td>4.173916</td>\n",
       "      <td>16.527806</td>\n",
       "      <td>7.866803</td>\n",
       "      <td>15.829717</td>\n",
       "      <td>1.103196</td>\n",
       "      <td>2.222206</td>\n",
       "      <td>10.470586</td>\n",
       "    </tr>\n",
       "    <tr>\n",
       "      <th>min</th>\n",
       "      <td>0.522300</td>\n",
       "      <td>985.85000</td>\n",
       "      <td>30.344000</td>\n",
       "      <td>2.087400</td>\n",
       "      <td>17.878000</td>\n",
       "      <td>1000.800000</td>\n",
       "      <td>512.450000</td>\n",
       "      <td>100.170000</td>\n",
       "      <td>9.904400</td>\n",
       "      <td>0.000388</td>\n",
       "      <td>27.765000</td>\n",
       "    </tr>\n",
       "    <tr>\n",
       "      <th>25%</th>\n",
       "      <td>11.408000</td>\n",
       "      <td>1008.90000</td>\n",
       "      <td>69.750000</td>\n",
       "      <td>3.723900</td>\n",
       "      <td>23.294000</td>\n",
       "      <td>1079.600000</td>\n",
       "      <td>542.170000</td>\n",
       "      <td>127.985000</td>\n",
       "      <td>11.622000</td>\n",
       "      <td>0.858055</td>\n",
       "      <td>61.303500</td>\n",
       "    </tr>\n",
       "    <tr>\n",
       "      <th>50%</th>\n",
       "      <td>18.186000</td>\n",
       "      <td>1012.80000</td>\n",
       "      <td>82.266000</td>\n",
       "      <td>4.186200</td>\n",
       "      <td>25.082000</td>\n",
       "      <td>1088.700000</td>\n",
       "      <td>549.890000</td>\n",
       "      <td>133.780000</td>\n",
       "      <td>12.025000</td>\n",
       "      <td>1.390200</td>\n",
       "      <td>66.601000</td>\n",
       "    </tr>\n",
       "    <tr>\n",
       "      <th>75%</th>\n",
       "      <td>23.862500</td>\n",
       "      <td>1016.90000</td>\n",
       "      <td>90.043500</td>\n",
       "      <td>4.550900</td>\n",
       "      <td>27.184000</td>\n",
       "      <td>1096.000000</td>\n",
       "      <td>550.060000</td>\n",
       "      <td>140.895000</td>\n",
       "      <td>12.578000</td>\n",
       "      <td>2.160400</td>\n",
       "      <td>73.935500</td>\n",
       "    </tr>\n",
       "    <tr>\n",
       "      <th>max</th>\n",
       "      <td>34.929000</td>\n",
       "      <td>1034.20000</td>\n",
       "      <td>100.200000</td>\n",
       "      <td>7.610600</td>\n",
       "      <td>37.402000</td>\n",
       "      <td>1100.800000</td>\n",
       "      <td>550.610000</td>\n",
       "      <td>174.610000</td>\n",
       "      <td>15.081000</td>\n",
       "      <td>44.103000</td>\n",
       "      <td>119.890000</td>\n",
       "    </tr>\n",
       "  </tbody>\n",
       "</table>\n",
       "</div>"
      ],
      "text/plain": [
       "                 AT           AP            AH          AFDP          GTEP  \\\n",
       "count  15039.000000  15039.00000  15039.000000  15039.000000  15039.000000   \n",
       "mean      17.764381   1013.19924     79.124174      4.200294     25.419061   \n",
       "std        7.574323      6.41076     13.793439      0.760197      4.173916   \n",
       "min        0.522300    985.85000     30.344000      2.087400     17.878000   \n",
       "25%       11.408000   1008.90000     69.750000      3.723900     23.294000   \n",
       "50%       18.186000   1012.80000     82.266000      4.186200     25.082000   \n",
       "75%       23.862500   1016.90000     90.043500      4.550900     27.184000   \n",
       "max       34.929000   1034.20000    100.200000      7.610600     37.402000   \n",
       "\n",
       "                TIT           TAT           TEY           CDP            CO  \\\n",
       "count  15039.000000  15039.000000  15039.000000  15039.000000  15039.000000   \n",
       "mean    1083.798770    545.396183    134.188464     12.102353      1.972499   \n",
       "std       16.527806      7.866803     15.829717      1.103196      2.222206   \n",
       "min     1000.800000    512.450000    100.170000      9.904400      0.000388   \n",
       "25%     1079.600000    542.170000    127.985000     11.622000      0.858055   \n",
       "50%     1088.700000    549.890000    133.780000     12.025000      1.390200   \n",
       "75%     1096.000000    550.060000    140.895000     12.578000      2.160400   \n",
       "max     1100.800000    550.610000    174.610000     15.081000     44.103000   \n",
       "\n",
       "                NOX  \n",
       "count  15039.000000  \n",
       "mean      68.190934  \n",
       "std       10.470586  \n",
       "min       27.765000  \n",
       "25%       61.303500  \n",
       "50%       66.601000  \n",
       "75%       73.935500  \n",
       "max      119.890000  "
      ]
     },
     "execution_count": 5,
     "metadata": {},
     "output_type": "execute_result"
    }
   ],
   "source": [
    "df.describe()"
   ]
  },
  {
   "cell_type": "markdown",
   "id": "ad05e8cd",
   "metadata": {},
   "source": [
    "# correlation matrix"
   ]
  },
  {
   "cell_type": "code",
   "execution_count": 6,
   "id": "235c2bdf",
   "metadata": {
    "ExecuteTime": {
     "end_time": "2023-04-11T04:37:56.967574Z",
     "start_time": "2023-04-11T04:37:56.237489Z"
    }
   },
   "outputs": [
    {
     "data": {
      "text/plain": [
       "<AxesSubplot:>"
      ]
     },
     "execution_count": 6,
     "metadata": {},
     "output_type": "execute_result"
    },
    {
     "data": {
      "image/png": "[encoded data removed]",
      "text/plain": [
       "<Figure size 432x288 with 2 Axes>"
      ]
     },
     "metadata": {
      "needs_background": "light"
     },
     "output_type": "display_data"
    }
   ],
   "source": [
    "sns.heatmap(df.corr(),annot = True)"
   ]
  },
  {
   "cell_type": "code",
   "execution_count": 7,
   "id": "f55c8fa7",
   "metadata": {
    "ExecuteTime": {
     "end_time": "2023-04-11T04:38:25.432571Z",
     "start_time": "2023-04-11T04:38:25.120450Z"
    }
   },
   "outputs": [
    {
     "data": {
      "text/plain": [
       "<AxesSubplot:xlabel='AT', ylabel='Density'>"
      ]
     },
     "execution_count": 7,
     "metadata": {},
     "output_type": "execute_result"
    },
    {
     "data": {
      "image/png": "[encoded data removed]",
      "text/plain": [
       "<Figure size 432x288 with 1 Axes>"
      ]
     },
     "metadata": {
      "needs_background": "light"
     },
     "output_type": "display_data"
    }
   ],
   "source": [
    "import warnings\n",
    "warnings.filterwarnings('ignore')\n",
    "sns.distplot(df.AT)"
   ]
  },
  {
   "cell_type": "code",
   "execution_count": 8,
   "id": "a647027f",
   "metadata": {
    "ExecuteTime": {
     "end_time": "2023-04-11T04:38:31.213865Z",
     "start_time": "2023-04-11T04:38:30.913306Z"
    }
   },
   "outputs": [
    {
     "data": {
      "text/plain": [
       "<AxesSubplot:xlabel='AP', ylabel='Density'>"
      ]
     },
     "execution_count": 8,
     "metadata": {},
     "output_type": "execute_result"
    },
    {
     "data": {
      "image/png": "[encoded data removed]",
      "text/plain": [
       "<Figure size 432x288 with 1 Axes>"
      ]
     },
     "metadata": {
      "needs_background": "light"
     },
     "output_type": "display_data"
    }
   ],
   "source": [
    "sns.distplot(df.AP)"
   ]
  },
  {
   "cell_type": "code",
   "execution_count": 9,
   "id": "b6fc889d",
   "metadata": {
    "ExecuteTime": {
     "end_time": "2023-04-11T04:38:33.517440Z",
     "start_time": "2023-04-11T04:38:33.253224Z"
    }
   },
   "outputs": [
    {
     "data": {
      "text/plain": [
       "<AxesSubplot:xlabel='AH', ylabel='Density'>"
      ]
     },
     "execution_count": 9,
     "metadata": {},
     "output_type": "execute_result"
    },
    {
     "data": {
      "image/png": "[encoded data removed]",
      "text/plain": [
       "<Figure size 432x288 with 1 Axes>"
      ]
     },
     "metadata": {
      "needs_background": "light"
     },
     "output_type": "display_data"
    }
   ],
   "source": [
    "sns.distplot(df.AH)"
   ]
  },
  {
   "cell_type": "code",
   "execution_count": 10,
   "id": "c1796c93",
   "metadata": {
    "ExecuteTime": {
     "end_time": "2023-04-11T04:38:35.957084Z",
     "start_time": "2023-04-11T04:38:35.666732Z"
    }
   },
   "outputs": [
    {
     "data": {
      "text/plain": [
       "<AxesSubplot:xlabel='AFDP', ylabel='Density'>"
      ]
     },
     "execution_count": 10,
     "metadata": {},
     "output_type": "execute_result"
    },
    {
     "data": {
      "image/png": "[encoded data removed]",
      "text/plain": [
       "<Figure size 432x288 with 1 Axes>"
      ]
     },
     "metadata": {
      "needs_background": "light"
     },
     "output_type": "display_data"
    }
   ],
   "source": [
    "sns.distplot(df.AFDP)"
   ]
  },
  {
   "cell_type": "code",
   "execution_count": 11,
   "id": "25d15766",
   "metadata": {
    "ExecuteTime": {
     "end_time": "2023-04-11T04:38:38.064119Z",
     "start_time": "2023-04-11T04:38:37.776917Z"
    }
   },
   "outputs": [
    {
     "data": {
      "text/plain": [
       "<AxesSubplot:xlabel='GTEP', ylabel='Density'>"
      ]
     },
     "execution_count": 11,
     "metadata": {},
     "output_type": "execute_result"
    },
    {
     "data": {
      "image/png": "[encoded data removed]",
      "text/plain": [
       "<Figure size 432x288 with 1 Axes>"
      ]
     },
     "metadata": {
      "needs_background": "light"
     },
     "output_type": "display_data"
    }
   ],
   "source": [
    "sns.distplot(df.GTEP)"
   ]
  },
  {
   "cell_type": "code",
   "execution_count": 12,
   "id": "b0b6f91d",
   "metadata": {
    "ExecuteTime": {
     "end_time": "2023-04-11T04:38:40.026750Z",
     "start_time": "2023-04-11T04:38:39.721802Z"
    }
   },
   "outputs": [
    {
     "data": {
      "text/plain": [
       "<AxesSubplot:xlabel='TIT', ylabel='Density'>"
      ]
     },
     "execution_count": 12,
     "metadata": {},
     "output_type": "execute_result"
    },
    {
     "data": {
      "image/png": "[encoded data removed]",
      "text/plain": [
       "<Figure size 432x288 with 1 Axes>"
      ]
     },
     "metadata": {
      "needs_background": "light"
     },
     "output_type": "display_data"
    }
   ],
   "source": [
    "sns.distplot(df.TIT)"
   ]
  },
  {
   "cell_type": "code",
   "execution_count": 13,
   "id": "b0d1b304",
   "metadata": {
    "ExecuteTime": {
     "end_time": "2023-04-11T04:38:42.007517Z",
     "start_time": "2023-04-11T04:38:41.723452Z"
    }
   },
   "outputs": [
    {
     "data": {
      "text/plain": [
       "<AxesSubplot:xlabel='TAT', ylabel='Density'>"
      ]
     },
     "execution_count": 13,
     "metadata": {},
     "output_type": "execute_result"
    },
    {
     "data": {
      "image/png": "[encoded data removed]",
      "text/plain": [
       "<Figure size 432x288 with 1 Axes>"
      ]
     },
     "metadata": {
      "needs_background": "light"
     },
     "output_type": "display_data"
    }
   ],
   "source": [
    "sns.distplot(df.TAT)"
   ]
  },
  {
   "cell_type": "code",
   "execution_count": 14,
   "id": "d45f32f9",
   "metadata": {
    "ExecuteTime": {
     "end_time": "2023-04-11T04:38:44.218604Z",
     "start_time": "2023-04-11T04:38:43.942859Z"
    }
   },
   "outputs": [
    {
     "data": {
      "text/plain": [
       "<AxesSubplot:xlabel='TEY', ylabel='Density'>"
      ]
     },
     "execution_count": 14,
     "metadata": {},
     "output_type": "execute_result"
    },
    {
     "data": {
      "image/png": "[encoded data removed]",
      "text/plain": [
       "<Figure size 432x288 with 1 Axes>"
      ]
     },
     "metadata": {
      "needs_background": "light"
     },
     "output_type": "display_data"
    }
   ],
   "source": [
    "sns.distplot(df.TEY)"
   ]
  },
  {
   "cell_type": "code",
   "execution_count": 15,
   "id": "762cf048",
   "metadata": {
    "ExecuteTime": {
     "end_time": "2023-04-11T04:38:46.306430Z",
     "start_time": "2023-04-11T04:38:46.042062Z"
    }
   },
   "outputs": [
    {
     "data": {
      "text/plain": [
       "<AxesSubplot:xlabel='CDP', ylabel='Density'>"
      ]
     },
     "execution_count": 15,
     "metadata": {},
     "output_type": "execute_result"
    },
    {
     "data": {
      "image/png": "[encoded data removed]",
      "text/plain": [
       "<Figure size 432x288 with 1 Axes>"
      ]
     },
     "metadata": {
      "needs_background": "light"
     },
     "output_type": "display_data"
    }
   ],
   "source": [
    "sns.distplot(df.CDP)"
   ]
  },
  {
   "cell_type": "code",
   "execution_count": 16,
   "id": "991d1fea",
   "metadata": {
    "ExecuteTime": {
     "end_time": "2023-04-11T04:38:48.547154Z",
     "start_time": "2023-04-11T04:38:48.202032Z"
    }
   },
   "outputs": [
    {
     "data": {
      "text/plain": [
       "<AxesSubplot:xlabel='CO', ylabel='Density'>"
      ]
     },
     "execution_count": 16,
     "metadata": {},
     "output_type": "execute_result"
    },
    {
     "data": {
      "image/png": "[encoded data removed]",
      "text/plain": [
       "<Figure size 432x288 with 1 Axes>"
      ]
     },
     "metadata": {
      "needs_background": "light"
     },
     "output_type": "display_data"
    }
   ],
   "source": [
    "sns.distplot(df.CO)"
   ]
  },
  {
   "cell_type": "code",
   "execution_count": 17,
   "id": "ec0a8ee3",
   "metadata": {
    "ExecuteTime": {
     "end_time": "2023-04-11T04:38:50.482460Z",
     "start_time": "2023-04-11T04:38:50.217587Z"
    }
   },
   "outputs": [
    {
     "data": {
      "text/plain": [
       "<AxesSubplot:xlabel='NOX', ylabel='Density'>"
      ]
     },
     "execution_count": 17,
     "metadata": {},
     "output_type": "execute_result"
    },
    {
     "data": {
      "image/png": "[encoded data removed]",
      "text/plain": [
       "<Figure size 432x288 with 1 Axes>"
      ]
     },
     "metadata": {
      "needs_background": "light"
     },
     "output_type": "display_data"
    }
   ],
   "source": [
    "sns.distplot(df.NOX)"
   ]
  },
  {
   "cell_type": "markdown",
   "id": "a5382346",
   "metadata": {},
   "source": [
    "# Independent and dependent variables"
   ]
  },
  {
   "cell_type": "code",
   "execution_count": 18,
   "id": "61bc2432",
   "metadata": {
    "ExecuteTime": {
     "end_time": "2023-04-11T04:38:54.798245Z",
     "start_time": "2023-04-11T04:38:54.788551Z"
    }
   },
   "outputs": [],
   "source": [
    "df[\"TEy\"] = 1\n",
    "df.loc[df[\"TEY\"] > 135,\"TEy\"] = 2\n",
    "df.drop([\"TEY\"],axis = 1,inplace = True)"
   ]
  },
  {
   "cell_type": "code",
   "execution_count": 19,
   "id": "b85bc5fa",
   "metadata": {
    "ExecuteTime": {
     "end_time": "2023-04-11T04:38:56.003603Z",
     "start_time": "2023-04-11T04:38:55.986404Z"
    }
   },
   "outputs": [
    {
     "data": {
      "text/plain": [
       "array([[   6.8594, 1007.9   ,   96.799 , ...,   10.605 ,    3.1547,\n",
       "          82.722 ],\n",
       "       [   6.785 , 1008.4   ,   97.118 , ...,   10.598 ,    3.2363,\n",
       "          82.776 ],\n",
       "       [   6.8977, 1008.8   ,   95.939 , ...,   10.601 ,    3.2012,\n",
       "          82.468 ],\n",
       "       ...,\n",
       "       [   7.2647, 1006.3   ,   99.496 , ...,   10.483 ,    7.9632,\n",
       "          90.912 ],\n",
       "       [   7.006 , 1006.8   ,   99.008 , ...,   10.533 ,    6.2494,\n",
       "          93.227 ],\n",
       "       [   6.9279, 1007.2   ,   97.533 , ...,   10.583 ,    4.9816,\n",
       "          92.498 ]])"
      ]
     },
     "execution_count": 19,
     "metadata": {},
     "output_type": "execute_result"
    }
   ],
   "source": [
    "x=np.array(df.iloc[:,0:10])\n",
    "x "
   ]
  },
  {
   "cell_type": "code",
   "execution_count": 20,
   "id": "5faaa4e2",
   "metadata": {
    "ExecuteTime": {
     "end_time": "2023-04-11T04:38:58.780801Z",
     "start_time": "2023-04-11T04:38:58.767850Z"
    }
   },
   "outputs": [
    {
     "data": {
      "text/plain": [
       "array([1, 1, 1, ..., 1, 1, 1], dtype=int64)"
      ]
     },
     "execution_count": 20,
     "metadata": {},
     "output_type": "execute_result"
    }
   ],
   "source": [
    "y=np.array(df.iloc[:,10])\n",
    "y "
   ]
  },
  {
   "cell_type": "markdown",
   "id": "10724e70",
   "metadata": {},
   "source": [
    "# Normalizing data"
   ]
  },
  {
   "cell_type": "code",
   "execution_count": 21,
   "id": "697e469b",
   "metadata": {
    "ExecuteTime": {
     "end_time": "2023-04-11T04:39:11.852024Z",
     "start_time": "2023-04-11T04:39:11.323148Z"
    }
   },
   "outputs": [],
   "source": [
    "from sklearn.model_selection import train_test_split\n",
    "def norm_func(i):\n",
    "    x = (i-i.min())/(i.max()-i.min())\n",
    "    return (x)"
   ]
  },
  {
   "cell_type": "code",
   "execution_count": 22,
   "id": "01e7b59c",
   "metadata": {
    "ExecuteTime": {
     "end_time": "2023-04-11T04:39:12.516305Z",
     "start_time": "2023-04-11T04:39:12.509307Z"
    }
   },
   "outputs": [
    {
     "data": {
      "text/plain": [
       "array([[0.00623094, 0.9156068 , 0.08793482, ..., 0.00963355, 0.00286547,\n",
       "        0.07514684],\n",
       "       [0.00616335, 0.91606102, 0.08822461, ..., 0.00962719, 0.0029396 ,\n",
       "        0.0751959 ],\n",
       "       [0.00626573, 0.91642439, 0.08715357, ..., 0.00962992, 0.00290772,\n",
       "        0.0749161 ],\n",
       "       ...,\n",
       "       [0.00659912, 0.91415331, 0.09038485, ..., 0.00952273, 0.00723366,\n",
       "        0.08258689],\n",
       "       [0.00636411, 0.91460753, 0.08994154, ..., 0.00956815, 0.00567679,\n",
       "        0.0846899 ],\n",
       "       [0.00629316, 0.9149709 , 0.08860161, ..., 0.00961357, 0.00452509,\n",
       "        0.08402766]])"
      ]
     },
     "execution_count": 22,
     "metadata": {},
     "output_type": "execute_result"
    }
   ],
   "source": [
    "x_norm = norm_func(x)\n",
    "x_norm"
   ]
  },
  {
   "cell_type": "code",
   "execution_count": 23,
   "id": "1ef3933f",
   "metadata": {
    "ExecuteTime": {
     "end_time": "2023-04-11T04:39:15.060622Z",
     "start_time": "2023-04-11T04:39:15.040892Z"
    }
   },
   "outputs": [],
   "source": [
    "# Splitting data\n",
    "x_train,x_test,y_train,y_test = train_test_split(x_norm,y, test_size = 0.2)"
   ]
  },
  {
   "cell_type": "markdown",
   "id": "a5340663",
   "metadata": {},
   "source": [
    "# Neural Network"
   ]
  },
  {
   "cell_type": "code",
   "execution_count": 24,
   "id": "11d82d30",
   "metadata": {
    "ExecuteTime": {
     "end_time": "2023-04-11T04:39:23.873648Z",
     "start_time": "2023-04-11T04:39:18.120547Z"
    }
   },
   "outputs": [],
   "source": [
    "import keras.models\n",
    "import tensorflow\n",
    "from tensorflow.keras.models import Sequential\n",
    "from keras.layers import Dense"
   ]
  },
  {
   "cell_type": "code",
   "execution_count": 25,
   "id": "b4f67fa3",
   "metadata": {
    "ExecuteTime": {
     "end_time": "2023-04-11T04:39:26.454387Z",
     "start_time": "2023-04-11T04:39:25.574687Z"
    }
   },
   "outputs": [
    {
     "data": {
      "text/plain": [
       "<keras.engine.sequential.Sequential at 0x29cf992ceb0>"
      ]
     },
     "execution_count": 25,
     "metadata": {},
     "output_type": "execute_result"
    }
   ],
   "source": [
    "model = Sequential()\n",
    "model"
   ]
  },
  {
   "cell_type": "code",
   "execution_count": 26,
   "id": "e4013de5",
   "metadata": {
    "ExecuteTime": {
     "end_time": "2023-04-11T04:39:27.448997Z",
     "start_time": "2023-04-11T04:39:27.432053Z"
    }
   },
   "outputs": [],
   "source": [
    "# fix random seed for reproducibility\n",
    "seed=7\n",
    "np.random.seed(seed)"
   ]
  },
  {
   "cell_type": "code",
   "execution_count": 27,
   "id": "1ba93541",
   "metadata": {
    "ExecuteTime": {
     "end_time": "2023-04-11T04:39:31.567303Z",
     "start_time": "2023-04-11T04:39:31.292672Z"
    }
   },
   "outputs": [],
   "source": [
    "model.add(Dense(8, input_dim = 10, kernel_initializer = 'uniform', activation = 'relu'))\n",
    "model.add(Dense(4,  kernel_initializer = 'uniform', activation = 'relu'))\n",
    "model.add(Dense(1,  kernel_initializer = 'uniform', activation = 'linear'))"
   ]
  },
  {
   "cell_type": "code",
   "execution_count": 28,
   "id": "d9e18318",
   "metadata": {
    "ExecuteTime": {
     "end_time": "2023-04-11T04:39:32.605373Z",
     "start_time": "2023-04-11T04:39:32.574459Z"
    }
   },
   "outputs": [],
   "source": [
    "model.compile(loss = 'mse', optimizer = 'adam', metrics = ['accuracy'])"
   ]
  },
  {
   "cell_type": "code",
   "execution_count": 29,
   "id": "d5a0ac0c",
   "metadata": {
    "ExecuteTime": {
     "end_time": "2023-04-11T04:40:08.644917Z",
     "start_time": "2023-04-11T04:39:36.298056Z"
    }
   },
   "outputs": [
    {
     "name": "stdout",
     "output_type": "stream",
     "text": [
      "Epoch 1/20\n",
      "843/843 [==============================] - 3s 2ms/step - loss: 0.4983 - accuracy: 0.5612 - val_loss: 0.2101 - val_accuracy: 0.6970\n",
      "Epoch 2/20\n",
      "843/843 [==============================] - 1s 2ms/step - loss: 0.2083 - accuracy: 0.7004 - val_loss: 0.2089 - val_accuracy: 0.6970\n",
      "Epoch 3/20\n",
      "843/843 [==============================] - 1s 2ms/step - loss: 0.2069 - accuracy: 0.7004 - val_loss: 0.2079 - val_accuracy: 0.6970\n",
      "Epoch 4/20\n",
      "843/843 [==============================] - 1s 2ms/step - loss: 0.2054 - accuracy: 0.7004 - val_loss: 0.2056 - val_accuracy: 0.6970\n",
      "Epoch 5/20\n",
      "843/843 [==============================] - 2s 2ms/step - loss: 0.2041 - accuracy: 0.7004 - val_loss: 0.2038 - val_accuracy: 0.6970\n",
      "Epoch 6/20\n",
      "843/843 [==============================] - 1s 2ms/step - loss: 0.2024 - accuracy: 0.7004 - val_loss: 0.2020 - val_accuracy: 0.6970\n",
      "Epoch 7/20\n",
      "843/843 [==============================] - 2s 2ms/step - loss: 0.2002 - accuracy: 0.7004 - val_loss: 0.2033 - val_accuracy: 0.6970\n",
      "Epoch 8/20\n",
      "843/843 [==============================] - 1s 2ms/step - loss: 0.1983 - accuracy: 0.7004 - val_loss: 0.1976 - val_accuracy: 0.6970\n",
      "Epoch 9/20\n",
      "843/843 [==============================] - 2s 2ms/step - loss: 0.1950 - accuracy: 0.7004 - val_loss: 0.1944 - val_accuracy: 0.6970\n",
      "Epoch 10/20\n",
      "843/843 [==============================] - 2s 2ms/step - loss: 0.1923 - accuracy: 0.7004 - val_loss: 0.1914 - val_accuracy: 0.6970\n",
      "Epoch 11/20\n",
      "843/843 [==============================] - 1s 2ms/step - loss: 0.1883 - accuracy: 0.7004 - val_loss: 0.1858 - val_accuracy: 0.6970\n",
      "Epoch 12/20\n",
      "843/843 [==============================] - 1s 2ms/step - loss: 0.1834 - accuracy: 0.7004 - val_loss: 0.1801 - val_accuracy: 0.6970\n",
      "Epoch 13/20\n",
      "843/843 [==============================] - 2s 2ms/step - loss: 0.1765 - accuracy: 0.7004 - val_loss: 0.1723 - val_accuracy: 0.6970\n",
      "Epoch 14/20\n",
      "843/843 [==============================] - 2s 2ms/step - loss: 0.1674 - accuracy: 0.7004 - val_loss: 0.1622 - val_accuracy: 0.6970\n",
      "Epoch 15/20\n",
      "843/843 [==============================] - 2s 2ms/step - loss: 0.1557 - accuracy: 0.7000 - val_loss: 0.1596 - val_accuracy: 0.6970\n",
      "Epoch 16/20\n",
      "843/843 [==============================] - 2s 2ms/step - loss: 0.1419 - accuracy: 0.6994 - val_loss: 0.1330 - val_accuracy: 0.6953\n",
      "Epoch 17/20\n",
      "843/843 [==============================] - 2s 2ms/step - loss: 0.1263 - accuracy: 0.6991 - val_loss: 0.1222 - val_accuracy: 0.6945\n",
      "Epoch 18/20\n",
      "843/843 [==============================] - 2s 2ms/step - loss: 0.1134 - accuracy: 0.6979 - val_loss: 0.1090 - val_accuracy: 0.6917\n",
      "Epoch 19/20\n",
      "843/843 [==============================] - 2s 2ms/step - loss: 0.1050 - accuracy: 0.6962 - val_loss: 0.1018 - val_accuracy: 0.6878\n",
      "Epoch 20/20\n",
      "843/843 [==============================] - 2s 2ms/step - loss: 0.1004 - accuracy: 0.6930 - val_loss: 0.0971 - val_accuracy: 0.6853\n"
     ]
    },
    {
     "data": {
      "text/plain": [
       "<keras.callbacks.History at 0x29c824d4bb0>"
      ]
     },
     "execution_count": 29,
     "metadata": {},
     "output_type": "execute_result"
    }
   ],
   "source": [
    "model.fit(x_train,y_train, validation_split = 0.3, epochs = 20, batch_size = 10)"
   ]
  },
  {
   "cell_type": "code",
   "execution_count": 30,
   "id": "c066e5cb",
   "metadata": {
    "ExecuteTime": {
     "end_time": "2023-04-11T04:40:12.025517Z",
     "start_time": "2023-04-11T04:40:11.445055Z"
    }
   },
   "outputs": [
    {
     "name": "stdout",
     "output_type": "stream",
     "text": [
      "376/376 [==============================] - 1s 1ms/step - loss: 0.0975 - accuracy: 0.6897\n"
     ]
    },
    {
     "data": {
      "text/plain": [
       "[0.09753986448049545, 0.6897182464599609]"
      ]
     },
     "execution_count": 30,
     "metadata": {},
     "output_type": "execute_result"
    }
   ],
   "source": [
    "score = model.evaluate(x_train, y_train)\n",
    "score"
   ]
  },
  {
   "cell_type": "code",
   "execution_count": 31,
   "id": "f4600622",
   "metadata": {
    "ExecuteTime": {
     "end_time": "2023-04-11T04:40:14.553794Z",
     "start_time": "2023-04-11T04:40:14.334582Z"
    }
   },
   "outputs": [
    {
     "name": "stdout",
     "output_type": "stream",
     "text": [
      "94/94 [==============================] - 0s 1ms/step - loss: 0.0980 - accuracy: 0.7081\n"
     ]
    },
    {
     "data": {
      "text/plain": [
       "[0.09797603636980057, 0.7081117033958435]"
      ]
     },
     "execution_count": 31,
     "metadata": {},
     "output_type": "execute_result"
    }
   ],
   "source": [
    "scores = model.evaluate(x_test, y_test)\n",
    "scores"
   ]
  },
  {
   "cell_type": "markdown",
   "id": "a9907985",
   "metadata": {},
   "source": [
    "# visualise of training history"
   ]
  },
  {
   "cell_type": "code",
   "execution_count": 32,
   "id": "60ca8a88",
   "metadata": {
    "ExecuteTime": {
     "end_time": "2023-04-11T04:40:49.522989Z",
     "start_time": "2023-04-11T04:40:18.425486Z"
    }
   },
   "outputs": [
    {
     "name": "stdout",
     "output_type": "stream",
     "text": [
      "Epoch 1/20\n",
      "843/843 [==============================] - 2s 2ms/step - loss: 0.0919 - accuracy: 0.6960 - val_loss: 0.0836 - val_accuracy: 0.6911\n",
      "Epoch 2/20\n",
      "843/843 [==============================] - 2s 2ms/step - loss: 0.0835 - accuracy: 0.6969 - val_loss: 0.0795 - val_accuracy: 0.6909\n",
      "Epoch 3/20\n",
      "843/843 [==============================] - 1s 2ms/step - loss: 0.0807 - accuracy: 0.6969 - val_loss: 0.0768 - val_accuracy: 0.6900\n",
      "Epoch 4/20\n",
      "843/843 [==============================] - 2s 2ms/step - loss: 0.0781 - accuracy: 0.6975 - val_loss: 0.0812 - val_accuracy: 0.6900\n",
      "Epoch 5/20\n",
      "843/843 [==============================] - 2s 2ms/step - loss: 0.0760 - accuracy: 0.6977 - val_loss: 0.0727 - val_accuracy: 0.6936\n",
      "Epoch 6/20\n",
      "843/843 [==============================] - 2s 2ms/step - loss: 0.0742 - accuracy: 0.6986 - val_loss: 0.0704 - val_accuracy: 0.6950\n",
      "Epoch 7/20\n",
      "843/843 [==============================] - 2s 2ms/step - loss: 0.0726 - accuracy: 0.6987 - val_loss: 0.0697 - val_accuracy: 0.6953\n",
      "Epoch 8/20\n",
      "843/843 [==============================] - 1s 2ms/step - loss: 0.0708 - accuracy: 0.6991 - val_loss: 0.0712 - val_accuracy: 0.6958\n",
      "Epoch 9/20\n",
      "843/843 [==============================] - 1s 2ms/step - loss: 0.0701 - accuracy: 0.6992 - val_loss: 0.0660 - val_accuracy: 0.6958\n",
      "Epoch 10/20\n",
      "843/843 [==============================] - 1s 2ms/step - loss: 0.0693 - accuracy: 0.6992 - val_loss: 0.0656 - val_accuracy: 0.6970\n",
      "Epoch 11/20\n",
      "843/843 [==============================] - 1s 2ms/step - loss: 0.0682 - accuracy: 0.6994 - val_loss: 0.0660 - val_accuracy: 0.6970\n",
      "Epoch 12/20\n",
      "843/843 [==============================] - 1s 2ms/step - loss: 0.0676 - accuracy: 0.6997 - val_loss: 0.0668 - val_accuracy: 0.6970\n",
      "Epoch 13/20\n",
      "843/843 [==============================] - 1s 2ms/step - loss: 0.0672 - accuracy: 0.6998 - val_loss: 0.0627 - val_accuracy: 0.6970\n",
      "Epoch 14/20\n",
      "843/843 [==============================] - 2s 2ms/step - loss: 0.0663 - accuracy: 0.6999 - val_loss: 0.0625 - val_accuracy: 0.6970\n",
      "Epoch 15/20\n",
      "843/843 [==============================] - 2s 2ms/step - loss: 0.0663 - accuracy: 0.7002 - val_loss: 0.0625 - val_accuracy: 0.6970\n",
      "Epoch 16/20\n",
      "843/843 [==============================] - 2s 2ms/step - loss: 0.0658 - accuracy: 0.7003 - val_loss: 0.0619 - val_accuracy: 0.6970\n",
      "Epoch 17/20\n",
      "843/843 [==============================] - 2s 2ms/step - loss: 0.0647 - accuracy: 0.7003 - val_loss: 0.0622 - val_accuracy: 0.6970\n",
      "Epoch 18/20\n",
      "843/843 [==============================] - 2s 2ms/step - loss: 0.0643 - accuracy: 0.7004 - val_loss: 0.0611 - val_accuracy: 0.6970\n",
      "Epoch 19/20\n",
      "843/843 [==============================] - 1s 2ms/step - loss: 0.0640 - accuracy: 0.7004 - val_loss: 0.0602 - val_accuracy: 0.6970\n",
      "Epoch 20/20\n",
      "843/843 [==============================] - 2s 2ms/step - loss: 0.0640 - accuracy: 0.7004 - val_loss: 0.0610 - val_accuracy: 0.6970\n"
     ]
    }
   ],
   "source": [
    "history = model.fit(x_train,y_train, validation_split = 0.3, epochs = 20, batch_size = 10)"
   ]
  },
  {
   "cell_type": "code",
   "execution_count": 33,
   "id": "14282fe7",
   "metadata": {
    "ExecuteTime": {
     "end_time": "2023-04-11T04:40:54.139604Z",
     "start_time": "2023-04-11T04:40:54.123567Z"
    }
   },
   "outputs": [
    {
     "data": {
      "text/plain": [
       "dict_keys(['loss', 'accuracy', 'val_loss', 'val_accuracy'])"
      ]
     },
     "execution_count": 33,
     "metadata": {},
     "output_type": "execute_result"
    }
   ],
   "source": [
    "#list all data in history\n",
    "model.history.history.keys()"
   ]
  },
  {
   "cell_type": "markdown",
   "id": "0136af4e",
   "metadata": {},
   "source": [
    "# History for accuracy and loss"
   ]
  },
  {
   "cell_type": "code",
   "execution_count": 34,
   "id": "64f665ee",
   "metadata": {
    "ExecuteTime": {
     "end_time": "2023-04-11T04:40:57.762297Z",
     "start_time": "2023-04-11T04:40:57.610579Z"
    }
   },
   "outputs": [
    {
     "data": {
      "text/plain": [
       "<matplotlib.legend.Legend at 0x29c849bcd00>"
      ]
     },
     "execution_count": 34,
     "metadata": {},
     "output_type": "execute_result"
    },
    {
     "data": {
      "image/png": "[encoded data removed]",
      "text/plain": [
       "<Figure size 432x288 with 1 Axes>"
      ]
     },
     "metadata": {
      "needs_background": "light"
     },
     "output_type": "display_data"
    }
   ],
   "source": [
    "plt.plot(history.history['accuracy'])\n",
    "plt.plot(history.history['val_accuracy'])\n",
    "plt.title('model accuracy')\n",
    "plt.ylabel('accuracy')\n",
    "plt.xlabel('epoch')\n",
    "plt.legend(['train','test'], loc = 'upper left')"
   ]
  },
  {
   "cell_type": "code",
   "execution_count": 35,
   "id": "9fc82761",
   "metadata": {
    "ExecuteTime": {
     "end_time": "2023-04-11T04:41:01.446322Z",
     "start_time": "2023-04-11T04:41:01.294575Z"
    }
   },
   "outputs": [
    {
     "data": {
      "text/plain": [
       "<matplotlib.legend.Legend at 0x29c85b31ee0>"
      ]
     },
     "execution_count": 35,
     "metadata": {},
     "output_type": "execute_result"
    },
    {
     "data": {
      "image/png": "[encoded data removed]",
      "text/plain": [
       "<Figure size 432x288 with 1 Axes>"
      ]
     },
     "metadata": {
      "needs_background": "light"
     },
     "output_type": "display_data"
    }
   ],
   "source": [
    "plt.plot(history.history['loss'])\n",
    "plt.plot(history.history['val_loss'])\n",
    "plt.title('model loss')\n",
    "plt.ylabel('loss')\n",
    "plt.xlabel('epoch')\n",
    "plt.legend(['train','test'], loc = 'upper left')"
   ]
  },
  {
   "cell_type": "markdown",
   "id": "5073ca1f",
   "metadata": {},
   "source": [
    "# Tuning of Hyperparameter "
   ]
  },
  {
   "cell_type": "code",
   "execution_count": 36,
   "id": "07b699a6",
   "metadata": {
    "ExecuteTime": {
     "end_time": "2023-04-11T04:41:05.672585Z",
     "start_time": "2023-04-11T04:41:05.653891Z"
    }
   },
   "outputs": [],
   "source": [
    "from sklearn.model_selection import GridSearchCV, KFold\n",
    "from keras.wrappers.scikit_learn import KerasClassifier\n",
    "from keras.optimizers import Adam\n",
    "from tensorflow.keras.models import load_model"
   ]
  },
  {
   "cell_type": "code",
   "execution_count": 37,
   "id": "9174abff",
   "metadata": {
    "ExecuteTime": {
     "end_time": "2023-04-11T04:41:07.618026Z",
     "start_time": "2023-04-11T04:41:07.609054Z"
    }
   },
   "outputs": [],
   "source": [
    "def create_model():\n",
    "    model = Sequential()\n",
    "    model.add(Dense(12, input_dim = 10, kernel_initializer = 'uniform', activation = 'relu'))\n",
    "    model.add(Dense(8,  kernel_initializer = 'uniform', activation = 'relu'))\n",
    "    model.add(Dense(1,  kernel_initializer = 'uniform', activation = 'linear'))\n",
    "    \n",
    "    adam = Adam(lr = 0.01)\n",
    "    model.compile(loss = 'mse', optimizer = adam, metrics = ['accuracy'])\n",
    "    return model"
   ]
  },
  {
   "cell_type": "code",
   "execution_count": 38,
   "id": "096f9f19",
   "metadata": {
    "ExecuteTime": {
     "end_time": "2023-04-11T04:41:09.485677Z",
     "start_time": "2023-04-11T04:41:09.478184Z"
    }
   },
   "outputs": [
    {
     "data": {
      "text/plain": [
       "<keras.wrappers.scikit_learn.KerasClassifier at 0x29c85b60f70>"
      ]
     },
     "execution_count": 38,
     "metadata": {},
     "output_type": "execute_result"
    }
   ],
   "source": [
    "model_1 = KerasClassifier(build_fn = create_model,verbose = 0)\n",
    "model_1"
   ]
  },
  {
   "cell_type": "code",
   "execution_count": 39,
   "id": "2b347a5e",
   "metadata": {
    "ExecuteTime": {
     "end_time": "2023-04-11T04:41:12.816989Z",
     "start_time": "2023-04-11T04:41:12.801036Z"
    }
   },
   "outputs": [],
   "source": [
    "batch_size = [10,20,40]\n",
    "epochs = [10,50,100]\n",
    "param_grid = dict(batch_size = batch_size,epochs = epochs)"
   ]
  },
  {
   "cell_type": "code",
   "execution_count": 40,
   "id": "6c5d5470",
   "metadata": {
    "ExecuteTime": {
     "end_time": "2023-04-11T05:06:59.825636Z",
     "start_time": "2023-04-11T04:41:15.532770Z"
    }
   },
   "outputs": [
    {
     "name": "stdout",
     "output_type": "stream",
     "text": [
      "Fitting 5 folds for each of 9 candidates, totalling 45 fits\n",
      "[CV 1/5] END ..........batch_size=10, epochs=10;, score=0.885 total time=  11.2s\n",
      "[CV 2/5] END ..........batch_size=10, epochs=10;, score=0.710 total time=  11.9s\n",
      "[CV 3/5] END ..........batch_size=10, epochs=10;, score=0.693 total time=  11.1s\n",
      "[CV 4/5] END ..........batch_size=10, epochs=10;, score=0.698 total time=  12.5s\n",
      "[CV 5/5] END ..........batch_size=10, epochs=10;, score=0.695 total time=  12.1s\n",
      "[CV 1/5] END ..........batch_size=10, epochs=50;, score=0.958 total time=  52.1s\n",
      "[CV 2/5] END ..........batch_size=10, epochs=50;, score=0.710 total time=  58.9s\n",
      "[CV 3/5] END ..........batch_size=10, epochs=50;, score=0.693 total time=  57.7s\n",
      "[CV 4/5] END ..........batch_size=10, epochs=50;, score=0.698 total time=  52.4s\n",
      "[CV 5/5] END ..........batch_size=10, epochs=50;, score=0.695 total time=  51.5s\n",
      "[CV 1/5] END .........batch_size=10, epochs=100;, score=0.701 total time= 1.7min\n",
      "[CV 2/5] END .........batch_size=10, epochs=100;, score=0.950 total time= 1.7min\n",
      "[CV 3/5] END .........batch_size=10, epochs=100;, score=0.693 total time= 2.0min\n",
      "[CV 4/5] END .........batch_size=10, epochs=100;, score=0.698 total time= 1.7min\n",
      "[CV 5/5] END .........batch_size=10, epochs=100;, score=0.695 total time= 1.7min\n",
      "[CV 1/5] END ..........batch_size=20, epochs=10;, score=0.949 total time=   5.6s\n",
      "[CV 2/5] END ..........batch_size=20, epochs=10;, score=0.710 total time=   5.7s\n",
      "[CV 3/5] END ..........batch_size=20, epochs=10;, score=0.943 total time=   5.6s\n",
      "[CV 4/5] END ..........batch_size=20, epochs=10;, score=0.943 total time=   5.9s\n",
      "[CV 5/5] END ..........batch_size=20, epochs=10;, score=0.897 total time=   5.6s\n",
      "[CV 1/5] END ..........batch_size=20, epochs=50;, score=0.938 total time=  26.1s\n",
      "[CV 2/5] END ..........batch_size=20, epochs=50;, score=0.934 total time=  27.7s\n",
      "[CV 3/5] END ..........batch_size=20, epochs=50;, score=0.693 total time=  27.5s\n",
      "[CV 4/5] END ..........batch_size=20, epochs=50;, score=0.946 total time=  26.6s\n",
      "[CV 5/5] END ..........batch_size=20, epochs=50;, score=0.948 total time=  27.0s\n",
      "[CV 1/5] END .........batch_size=20, epochs=100;, score=0.950 total time=  53.1s\n",
      "[CV 2/5] END .........batch_size=20, epochs=100;, score=0.922 total time=  55.1s\n",
      "[CV 3/5] END .........batch_size=20, epochs=100;, score=0.967 total time=  55.5s\n",
      "[CV 4/5] END .........batch_size=20, epochs=100;, score=0.961 total time=  52.1s\n",
      "[CV 5/5] END .........batch_size=20, epochs=100;, score=0.695 total time=  53.0s\n",
      "[CV 1/5] END ..........batch_size=40, epochs=10;, score=0.929 total time=   3.2s\n",
      "[CV 2/5] END ..........batch_size=40, epochs=10;, score=0.953 total time=   3.1s\n",
      "[CV 3/5] END ..........batch_size=40, epochs=10;, score=0.935 total time=   3.1s\n",
      "[CV 4/5] END ..........batch_size=40, epochs=10;, score=0.946 total time=   3.1s\n",
      "[CV 5/5] END ..........batch_size=40, epochs=10;, score=0.941 total time=   3.2s\n",
      "[CV 1/5] END ..........batch_size=40, epochs=50;, score=0.943 total time=  13.4s\n",
      "[CV 2/5] END ..........batch_size=40, epochs=50;, score=0.953 total time=  13.4s\n",
      "[CV 3/5] END ..........batch_size=40, epochs=50;, score=0.931 total time=  13.5s\n",
      "[CV 4/5] END ..........batch_size=40, epochs=50;, score=0.962 total time=  14.3s\n",
      "[CV 5/5] END ..........batch_size=40, epochs=50;, score=0.944 total time=  13.4s\n",
      "[CV 1/5] END .........batch_size=40, epochs=100;, score=0.956 total time=  26.7s\n",
      "[CV 2/5] END .........batch_size=40, epochs=100;, score=0.931 total time=  26.6s\n",
      "[CV 3/5] END .........batch_size=40, epochs=100;, score=0.956 total time=  26.6s\n",
      "[CV 4/5] END .........batch_size=40, epochs=100;, score=0.948 total time=  26.4s\n",
      "[CV 5/5] END .........batch_size=40, epochs=100;, score=0.949 total time=  27.5s\n"
     ]
    }
   ],
   "source": [
    "grid = GridSearchCV(estimator = model_1, param_grid = param_grid,cv = KFold(),verbose =5)\n",
    "grid_result = grid.fit(x_train,y_train)"
   ]
  },
  {
   "cell_type": "code",
   "execution_count": null,
   "id": "94bd6484",
   "metadata": {},
   "outputs": [],
   "source": []
  }
 ],
 "metadata": {
  "kernelspec": {
   "display_name": "Python 3 (ipykernel)",
   "language": "python",
   "name": "python3"
  },
  "language_info": {
   "codemirror_mode": {
    "name": "ipython",
    "version": 3
   },
   "file_extension": ".py",
   "mimetype": "text/x-python",
   "name": "python",
   "nbconvert_exporter": "python",
   "pygments_lexer": "ipython3",
   "version": "3.9.7"
  }
 },
 "nbformat": 4,
 "nbformat_minor": 5
}
